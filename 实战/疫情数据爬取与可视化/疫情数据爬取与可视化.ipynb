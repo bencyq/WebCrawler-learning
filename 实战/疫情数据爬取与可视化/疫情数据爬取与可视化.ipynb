{
 "cells": [
  {
   "cell_type": "code",
   "execution_count": null,
   "id": "11472b19",
   "metadata": {},
   "outputs": [],
   "source": [
    "from selenium import webdriver\n",
    "from bs4 import BeautifulSoup\n",
    "import re\n",
    "import PIL.Image as image\n",
    "import numpy as np\n",
    "import pandas as pd\n",
    "import pyecharts\n",
    "from pyecharts.charts import Map\n",
    "from pyecharts import options as opts"
   ]
  },
  {
   "cell_type": "code",
   "execution_count": 2,
   "id": "932835ba",
   "metadata": {},
   "outputs": [
    {
     "ename": "ElementClickInterceptedException",
     "evalue": "Message: element click intercepted: Element <div class=\"Common_1-1-321_3lDRV2\">...</div> is not clickable at point (483, 8). Other element would receive the click: <span></span>\n  (Session info: chrome=96.0.4664.110)\n",
     "output_type": "error",
     "traceback": [
      "\u001b[1;31m---------------------------------------------------------------------------\u001b[0m",
      "\u001b[1;31mElementClickInterceptedException\u001b[0m          Traceback (most recent call last)",
      "\u001b[1;32mC:\\Users\\MACHEN~1\\AppData\\Local\\Temp/ipykernel_16660/321366645.py\u001b[0m in \u001b[0;36m<module>\u001b[1;34m\u001b[0m\n\u001b[0;32m     19\u001b[0m     \u001b[1;31m# ActionChains(browser).move_to_element_with_offset(button, 500, 10).click().perform()\u001b[0m\u001b[1;33m\u001b[0m\u001b[1;33m\u001b[0m\u001b[1;33m\u001b[0m\u001b[0m\n\u001b[0;32m     20\u001b[0m     \u001b[1;32mfor\u001b[0m \u001b[0mbutton\u001b[0m \u001b[1;32min\u001b[0m \u001b[0mbuttons\u001b[0m\u001b[1;33m:\u001b[0m\u001b[1;33m\u001b[0m\u001b[1;33m\u001b[0m\u001b[0m\n\u001b[1;32m---> 21\u001b[1;33m         \u001b[0mbutton\u001b[0m\u001b[1;33m.\u001b[0m\u001b[0mclick\u001b[0m\u001b[1;33m(\u001b[0m\u001b[1;33m)\u001b[0m\u001b[1;33m\u001b[0m\u001b[1;33m\u001b[0m\u001b[0m\n\u001b[0m\u001b[0;32m     22\u001b[0m     \u001b[1;31m# time.sleep(1)  # 停止两秒\u001b[0m\u001b[1;33m\u001b[0m\u001b[1;33m\u001b[0m\u001b[1;33m\u001b[0m\u001b[0m\n\u001b[0;32m     23\u001b[0m     \u001b[1;32mwith\u001b[0m \u001b[0mopen\u001b[0m\u001b[1;33m(\u001b[0m\u001b[1;34m'source_page.html'\u001b[0m\u001b[1;33m,\u001b[0m \u001b[1;34m'w'\u001b[0m\u001b[1;33m,\u001b[0m \u001b[0mencoding\u001b[0m\u001b[1;33m=\u001b[0m\u001b[1;34m'utf-8'\u001b[0m\u001b[1;33m)\u001b[0m \u001b[1;32mas\u001b[0m \u001b[0mfp\u001b[0m\u001b[1;33m:\u001b[0m\u001b[1;33m\u001b[0m\u001b[1;33m\u001b[0m\u001b[0m\n",
      "\u001b[1;32mD:\\anaconda\\envs\\ReconNet\\lib\\site-packages\\selenium\\webdriver\\remote\\webelement.py\u001b[0m in \u001b[0;36mclick\u001b[1;34m(self)\u001b[0m\n\u001b[0;32m     78\u001b[0m     \u001b[1;32mdef\u001b[0m \u001b[0mclick\u001b[0m\u001b[1;33m(\u001b[0m\u001b[0mself\u001b[0m\u001b[1;33m)\u001b[0m\u001b[1;33m:\u001b[0m\u001b[1;33m\u001b[0m\u001b[1;33m\u001b[0m\u001b[0m\n\u001b[0;32m     79\u001b[0m         \u001b[1;34m\"\"\"Clicks the element.\"\"\"\u001b[0m\u001b[1;33m\u001b[0m\u001b[1;33m\u001b[0m\u001b[0m\n\u001b[1;32m---> 80\u001b[1;33m         \u001b[0mself\u001b[0m\u001b[1;33m.\u001b[0m\u001b[0m_execute\u001b[0m\u001b[1;33m(\u001b[0m\u001b[0mCommand\u001b[0m\u001b[1;33m.\u001b[0m\u001b[0mCLICK_ELEMENT\u001b[0m\u001b[1;33m)\u001b[0m\u001b[1;33m\u001b[0m\u001b[1;33m\u001b[0m\u001b[0m\n\u001b[0m\u001b[0;32m     81\u001b[0m \u001b[1;33m\u001b[0m\u001b[0m\n\u001b[0;32m     82\u001b[0m     \u001b[1;32mdef\u001b[0m \u001b[0msubmit\u001b[0m\u001b[1;33m(\u001b[0m\u001b[0mself\u001b[0m\u001b[1;33m)\u001b[0m\u001b[1;33m:\u001b[0m\u001b[1;33m\u001b[0m\u001b[1;33m\u001b[0m\u001b[0m\n",
      "\u001b[1;32mD:\\anaconda\\envs\\ReconNet\\lib\\site-packages\\selenium\\webdriver\\remote\\webelement.py\u001b[0m in \u001b[0;36m_execute\u001b[1;34m(self, command, params)\u001b[0m\n\u001b[0;32m    631\u001b[0m             \u001b[0mparams\u001b[0m \u001b[1;33m=\u001b[0m \u001b[1;33m{\u001b[0m\u001b[1;33m}\u001b[0m\u001b[1;33m\u001b[0m\u001b[1;33m\u001b[0m\u001b[0m\n\u001b[0;32m    632\u001b[0m         \u001b[0mparams\u001b[0m\u001b[1;33m[\u001b[0m\u001b[1;34m'id'\u001b[0m\u001b[1;33m]\u001b[0m \u001b[1;33m=\u001b[0m \u001b[0mself\u001b[0m\u001b[1;33m.\u001b[0m\u001b[0m_id\u001b[0m\u001b[1;33m\u001b[0m\u001b[1;33m\u001b[0m\u001b[0m\n\u001b[1;32m--> 633\u001b[1;33m         \u001b[1;32mreturn\u001b[0m \u001b[0mself\u001b[0m\u001b[1;33m.\u001b[0m\u001b[0m_parent\u001b[0m\u001b[1;33m.\u001b[0m\u001b[0mexecute\u001b[0m\u001b[1;33m(\u001b[0m\u001b[0mcommand\u001b[0m\u001b[1;33m,\u001b[0m \u001b[0mparams\u001b[0m\u001b[1;33m)\u001b[0m\u001b[1;33m\u001b[0m\u001b[1;33m\u001b[0m\u001b[0m\n\u001b[0m\u001b[0;32m    634\u001b[0m \u001b[1;33m\u001b[0m\u001b[0m\n\u001b[0;32m    635\u001b[0m     \u001b[1;32mdef\u001b[0m \u001b[0mfind_element\u001b[0m\u001b[1;33m(\u001b[0m\u001b[0mself\u001b[0m\u001b[1;33m,\u001b[0m \u001b[0mby\u001b[0m\u001b[1;33m=\u001b[0m\u001b[0mBy\u001b[0m\u001b[1;33m.\u001b[0m\u001b[0mID\u001b[0m\u001b[1;33m,\u001b[0m \u001b[0mvalue\u001b[0m\u001b[1;33m=\u001b[0m\u001b[1;32mNone\u001b[0m\u001b[1;33m)\u001b[0m\u001b[1;33m:\u001b[0m\u001b[1;33m\u001b[0m\u001b[1;33m\u001b[0m\u001b[0m\n",
      "\u001b[1;32mD:\\anaconda\\envs\\ReconNet\\lib\\site-packages\\selenium\\webdriver\\remote\\webdriver.py\u001b[0m in \u001b[0;36mexecute\u001b[1;34m(self, driver_command, params)\u001b[0m\n\u001b[0;32m    319\u001b[0m         \u001b[0mresponse\u001b[0m \u001b[1;33m=\u001b[0m \u001b[0mself\u001b[0m\u001b[1;33m.\u001b[0m\u001b[0mcommand_executor\u001b[0m\u001b[1;33m.\u001b[0m\u001b[0mexecute\u001b[0m\u001b[1;33m(\u001b[0m\u001b[0mdriver_command\u001b[0m\u001b[1;33m,\u001b[0m \u001b[0mparams\u001b[0m\u001b[1;33m)\u001b[0m\u001b[1;33m\u001b[0m\u001b[1;33m\u001b[0m\u001b[0m\n\u001b[0;32m    320\u001b[0m         \u001b[1;32mif\u001b[0m \u001b[0mresponse\u001b[0m\u001b[1;33m:\u001b[0m\u001b[1;33m\u001b[0m\u001b[1;33m\u001b[0m\u001b[0m\n\u001b[1;32m--> 321\u001b[1;33m             \u001b[0mself\u001b[0m\u001b[1;33m.\u001b[0m\u001b[0merror_handler\u001b[0m\u001b[1;33m.\u001b[0m\u001b[0mcheck_response\u001b[0m\u001b[1;33m(\u001b[0m\u001b[0mresponse\u001b[0m\u001b[1;33m)\u001b[0m\u001b[1;33m\u001b[0m\u001b[1;33m\u001b[0m\u001b[0m\n\u001b[0m\u001b[0;32m    322\u001b[0m             response['value'] = self._unwrap_value(\n\u001b[0;32m    323\u001b[0m                 response.get('value', None))\n",
      "\u001b[1;32mD:\\anaconda\\envs\\ReconNet\\lib\\site-packages\\selenium\\webdriver\\remote\\errorhandler.py\u001b[0m in \u001b[0;36mcheck_response\u001b[1;34m(self, response)\u001b[0m\n\u001b[0;32m    240\u001b[0m                 \u001b[0malert_text\u001b[0m \u001b[1;33m=\u001b[0m \u001b[0mvalue\u001b[0m\u001b[1;33m[\u001b[0m\u001b[1;34m'alert'\u001b[0m\u001b[1;33m]\u001b[0m\u001b[1;33m.\u001b[0m\u001b[0mget\u001b[0m\u001b[1;33m(\u001b[0m\u001b[1;34m'text'\u001b[0m\u001b[1;33m)\u001b[0m\u001b[1;33m\u001b[0m\u001b[1;33m\u001b[0m\u001b[0m\n\u001b[0;32m    241\u001b[0m             \u001b[1;32mraise\u001b[0m \u001b[0mexception_class\u001b[0m\u001b[1;33m(\u001b[0m\u001b[0mmessage\u001b[0m\u001b[1;33m,\u001b[0m \u001b[0mscreen\u001b[0m\u001b[1;33m,\u001b[0m \u001b[0mstacktrace\u001b[0m\u001b[1;33m,\u001b[0m \u001b[0malert_text\u001b[0m\u001b[1;33m)\u001b[0m\u001b[1;33m\u001b[0m\u001b[1;33m\u001b[0m\u001b[0m\n\u001b[1;32m--> 242\u001b[1;33m         \u001b[1;32mraise\u001b[0m \u001b[0mexception_class\u001b[0m\u001b[1;33m(\u001b[0m\u001b[0mmessage\u001b[0m\u001b[1;33m,\u001b[0m \u001b[0mscreen\u001b[0m\u001b[1;33m,\u001b[0m \u001b[0mstacktrace\u001b[0m\u001b[1;33m)\u001b[0m\u001b[1;33m\u001b[0m\u001b[1;33m\u001b[0m\u001b[0m\n\u001b[0m\u001b[0;32m    243\u001b[0m \u001b[1;33m\u001b[0m\u001b[0m\n\u001b[0;32m    244\u001b[0m     \u001b[1;32mdef\u001b[0m \u001b[0m_value_or_default\u001b[0m\u001b[1;33m(\u001b[0m\u001b[0mself\u001b[0m\u001b[1;33m,\u001b[0m \u001b[0mobj\u001b[0m\u001b[1;33m,\u001b[0m \u001b[0mkey\u001b[0m\u001b[1;33m,\u001b[0m \u001b[0mdefault\u001b[0m\u001b[1;33m)\u001b[0m\u001b[1;33m:\u001b[0m\u001b[1;33m\u001b[0m\u001b[1;33m\u001b[0m\u001b[0m\n",
      "\u001b[1;31mElementClickInterceptedException\u001b[0m: Message: element click intercepted: Element <div class=\"Common_1-1-321_3lDRV2\">...</div> is not clickable at point (483, 8). Other element would receive the click: <span></span>\n  (Session info: chrome=96.0.4664.110)\n"
     ]
    }
   ],
   "source": [
    "html = 'https://voice.baidu.com/act/newpneumonia/newpneumonia/?from=osari_aladin_banner'\n",
    "chrome_driver = r'D:\\anaconda\\envs\\pytry\\Lib\\site-packages\\selenium\\chromedriver.exe'\n",
    "browser = webdriver.Chrome(executable_path=chrome_driver)\n",
    "browser.set_window_size(1000, 800)  # 设置窗口大小\n",
    "try:\n",
    "    browser.get(html)\n",
    "    # eles = browser.find_elements_by_class_name('Common_1-1-321_3lDRV2')  # 找到该按钮\n",
    "    # ele = eles[0]\n",
    "    # browser.execute_script(\"arguments[0].scrollIntoView();\", ele)  # 滚动至该按钮可见位置\n",
    "\n",
    "    \"\"\"\n",
    "    browser.find_element_by_class_name('li-page.iconfont.icon-icon_pagedown')\n",
    "    括号里填的内容，如果有空格由 . 代替\n",
    "    \"\"\"\n",
    "\n",
    "    # browser.execute_script(\"arguments[0].scrollIntoView();\", ele)  # 滚动至该按钮可见位置，要不然无法模拟点击\n",
    "    buttons = browser.find_elements_by_class_name(\n",
    "        'Common_1-1-321_3lDRV2')  # 查找该按钮\n",
    "    # ActionChains(browser).move_to_element_with_offset(button, 500, 10).click().perform()\n",
    "    for button in buttons:\n",
    "        button.click()\n",
    "    # time.sleep(1)  # 停止两秒\n",
    "    with open('source_page.html', 'w', encoding='utf-8') as fp:\n",
    "        fp.write(browser.page_source)\n",
    "    print('source_page 爬取完成')\n",
    "finally:\n",
    "    browser.close()"
   ]
  },
  {
   "cell_type": "code",
   "execution_count": 5,
   "id": "bf543a6b",
   "metadata": {},
   "outputs": [
    {
     "data": {
      "text/plain": [
       "[['台湾', '38', '2299', '16891', '13742', '850'],\n",
       " ['浙江', '1', '504', '2003', '1498', '1'],\n",
       " ['陕西', '86', '369', '1078', '706', '3'],\n",
       " ['广西', '10', '236', '568', '330', '2'],\n",
       " ['内蒙古', '0', '231', '1186', '954', '1'],\n",
       " ['香港', '5', '153', '12555', '12189', '213'],\n",
       " ['上海', '15', '138', '3019', '2874', '7'],\n",
       " ['云南', '6', '96', '1799', '1701', '2'],\n",
       " ['广东', '6', '88', '3419', '3323', '8'],\n",
       " ['河南', '0', '32', '1640', '1586', '22'],\n",
       " ['山东', '1', '29', '1038', '1002', '7'],\n",
       " ['天津', '9', '29', '554', '522', '3'],\n",
       " ['福建', '1', '28', '1347', '1318', '1'],\n",
       " ['四川', '1', '28', '1306', '1275', '3'],\n",
       " ['北京', '0', '14', '1205', '1182', '9'],\n",
       " ['湖南', '4', '13', '1212', '1195', '4'],\n",
       " ['甘肃', '0', '12', '356', '342', '2'],\n",
       " ['黑龙江', '0', '10', '2035', '2012', '13'],\n",
       " ['辽宁', '0', '9', '793', '782', '2'],\n",
       " ['吉林', '0', '7', '589', '579', '3'],\n",
       " ['江苏', '0', '5', '1624', '1619', '0'],\n",
       " ['重庆', '0', '2', '610', '602', '6'],\n",
       " ['安徽', '0', '1', '1009', '1002', '6'],\n",
       " ['湖北', '0', '0', '68316', '63804', '4512'],\n",
       " ['河北', '0', '0', '1458', '1451', '7'],\n",
       " ['新疆', '0', '0', '981', '978', '3'],\n",
       " ['江西', '0', '0', '959', '958', '1'],\n",
       " ['山西', '0', '0', '265', '265', '0'],\n",
       " ['海南', '0', '0', '190', '184', '6'],\n",
       " ['贵州', '0', '0', '159', '157', '2'],\n",
       " ['宁夏', '0', '0', '122', '122', '0'],\n",
       " ['澳门', '0', '0', '77', '77', '0'],\n",
       " ['青海', '0', '0', '30', '30', '0'],\n",
       " ['西藏', '0', '0', '1', '1', '0']]"
      ]
     },
     "execution_count": 5,
     "metadata": {},
     "output_type": "execute_result"
    }
   ],
   "source": [
    "texts = []\n",
    "with open('source_page.html', 'r', encoding='utf-8')as fp:\n",
    "    file = fp.read()\n",
    "    soup1 = BeautifulSoup(file, 'lxml')\n",
    "    soup = BeautifulSoup(soup1.prettify(), 'lxml')\n",
    "    temp = soup.find_all(attrs={'class': 'VirusTable_1-1-321_3m6Ybq'})\n",
    "    for th in temp:\n",
    "        texts.append(th.text.replace('\\n', ' ').split(' '))\n",
    "    for text in texts:\n",
    "        for i in range(text.count('')):\n",
    "            text.remove('')\n",
    "texts"
   ]
  },
  {
   "cell_type": "code",
   "execution_count": 14,
   "id": "562fe8fa",
   "metadata": {},
   "outputs": [
    {
     "data": {
      "text/plain": [
       "[['台湾', '2299'],\n",
       " ['浙江', '504'],\n",
       " ['陕西', '369'],\n",
       " ['广西', '236'],\n",
       " ['内蒙古', '231'],\n",
       " ['香港', '153'],\n",
       " ['上海', '138'],\n",
       " ['云南', '96'],\n",
       " ['广东', '88'],\n",
       " ['河南', '32'],\n",
       " ['山东', '29'],\n",
       " ['天津', '29'],\n",
       " ['福建', '28'],\n",
       " ['四川', '28'],\n",
       " ['北京', '14'],\n",
       " ['湖南', '13'],\n",
       " ['甘肃', '12'],\n",
       " ['黑龙江', '10'],\n",
       " ['辽宁', '9'],\n",
       " ['吉林', '7'],\n",
       " ['江苏', '5'],\n",
       " ['重庆', '2'],\n",
       " ['安徽', '1'],\n",
       " ['湖北', '0'],\n",
       " ['河北', '0'],\n",
       " ['新疆', '0'],\n",
       " ['江西', '0'],\n",
       " ['山西', '0'],\n",
       " ['海南', '0'],\n",
       " ['贵州', '0'],\n",
       " ['宁夏', '0'],\n",
       " ['澳门', '0'],\n",
       " ['青海', '0'],\n",
       " ['西藏', '0']]"
      ]
     },
     "execution_count": 14,
     "metadata": {},
     "output_type": "execute_result"
    }
   ],
   "source": [
    "arr = np.array(texts)\n",
    "province = list(arr[:, 0])\n",
    "now_exits = list(arr[:, 2])\n",
    "data = [list(z)for z in zip(province, now_exits)]\n",
    "data"
   ]
  },
  {
   "cell_type": "code",
   "execution_count": 26,
   "id": "dc01d49c",
   "metadata": {},
   "outputs": [
    {
     "name": "stdout",
     "output_type": "stream",
     "text": [
      "请打开Map1.html\n"
     ]
    }
   ],
   "source": [
    "c = (\n",
    "    Map(init_opts=opts.InitOpts(width=\"1000px\", height=\"600px\"))  # 初始化地图大小\n",
    "    .set_global_opts(\n",
    "        title_opts=opts.TitleOpts(title=\"2021年12月25日疫情图\"),  # 配置标题\n",
    "        visualmap_opts=opts.VisualMapOpts(\n",
    "            type_=\"scatter\"  # 散点类型\n",
    "        )\n",
    "    )\n",
    "    .add(\"now_exists\", data, maptype=\"china\")  # 将list传入，地图类型为中国地图\n",
    "    .render(\"Map1.html\")\n",
    ")\n",
    "print('请打开Map1.html')"
   ]
  },
  {
   "cell_type": "code",
   "execution_count": 1,
   "id": "287b63c2",
   "metadata": {},
   "outputs": [
    {
     "ename": "NameError",
     "evalue": "name 'Map' is not defined",
     "output_type": "error",
     "traceback": [
      "\u001b[1;31m---------------------------------------------------------------------------\u001b[0m",
      "\u001b[1;31mNameError\u001b[0m                                 Traceback (most recent call last)",
      "\u001b[1;32mC:\\Users\\MACHEN~1\\AppData\\Local\\Temp/ipykernel_20532/3878585703.py\u001b[0m in \u001b[0;36m<module>\u001b[1;34m\u001b[0m\n\u001b[0;32m      1\u001b[0m c = (\n\u001b[1;32m----> 2\u001b[1;33m     Map(init_opts=opts.InitOpts(width=\"1000px\",\n\u001b[0m\u001b[0;32m      3\u001b[0m                                 height=\"600px\", theme=ThemeType.ESSOS))  # 可切换主题\n\u001b[0;32m      4\u001b[0m         .set_global_opts(\n\u001b[0;32m      5\u001b[0m         \u001b[0mtitle_opts\u001b[0m\u001b[1;33m=\u001b[0m\u001b[0mopts\u001b[0m\u001b[1;33m.\u001b[0m\u001b[0mTitleOpts\u001b[0m\u001b[1;33m(\u001b[0m\u001b[0mtitle\u001b[0m\u001b[1;33m=\u001b[0m\u001b[1;34m\"2021年12月25日疫情图\"\u001b[0m\u001b[1;33m)\u001b[0m\u001b[1;33m,\u001b[0m\u001b[1;33m\u001b[0m\u001b[1;33m\u001b[0m\u001b[0m\n",
      "\u001b[1;31mNameError\u001b[0m: name 'Map' is not defined"
     ]
    }
   ],
   "source": [
    "c = (\n",
    "    Map(init_opts=opts.InitOpts(width=\"1000px\",\n",
    "                                height=\"600px\", theme=ThemeType.ESSOS))  # 可切换主题\n",
    "        .set_global_opts(\n",
    "        title_opts=opts.TitleOpts(title=\"2021年12月25日疫情图\"),\n",
    "        visualmap_opts=opts.VisualMapOpts(\n",
    "            # min_=0,\n",
    "            # max_=600,\n",
    "            range_text=['人数', ''],  # 分区间\n",
    "            is_piecewise=True,  # 定义图例为分段型，默认为连续的图例\n",
    "            pos_top=\"middle\",  # 分段位置\n",
    "            pos_left=\"left\",\n",
    "            orient=\"vertical\",\n",
    "            # split_number=10,  # 分成10个区间\n",
    "            pieces=[\n",
    "                {\"min\": 1000},  # 不指定 max，表示 max 为无限大（Infinity）。\n",
    "                {\"min\": 500, \"max\": 999},\n",
    "                {\"min\": 100, \"max\": 499},\n",
    "                {\"min\": 50, \"max\": 99},\n",
    "                {\"min\": 10, \"max\": 49},\n",
    "                {\"min\": 5, \"max\": 9},\n",
    "                # {\"value\": 123, \"label\": '123（自定义特殊颜色）', \"color\": 'grey'},  # 表示 value 等于 123 的情况\n",
    "                {\"max\": 4, \"color\": 'white'}  # 不指定 min，表示 min 为无限大（-Infinity）。\n",
    "            ]\n",
    "\n",
    "        )\n",
    "    )\n",
    "        .add(\"现存感染人数\", data, maptype=\"china\")\n",
    "        .render(\"Map2.html\")\n",
    ")\n",
    "print('请打开Map2.html')"
   ]
  }
 ],
 "metadata": {
  "kernelspec": {
   "display_name": "Python 3 (ipykernel)",
   "language": "python",
   "name": "python3"
  },
  "language_info": {
   "codemirror_mode": {
    "name": "ipython",
    "version": 3
   },
   "file_extension": ".py",
   "mimetype": "text/x-python",
   "name": "python",
   "nbconvert_exporter": "python",
   "pygments_lexer": "ipython3",
   "version": "3.8.12"
  }
 },
 "nbformat": 4,
 "nbformat_minor": 5
}
