{
 "cells": [
  {
   "cell_type": "code",
   "execution_count": 8,
   "id": "11472b19",
   "metadata": {},
   "outputs": [],
   "source": [
    "from selenium import webdriver\n",
    "from bs4 import BeautifulSoup\n",
    "import re\n",
    "import PIL.Image as image\n",
    "import numpy as np\n",
    "import pandas as pd\n",
    "import pyecharts\n",
    "from pyecharts.charts import Map\n",
    "from pyecharts import options as opts\n",
    "from pyecharts.globals import ThemeType  # 引入主题"
   ]
  },
  {
   "cell_type": "code",
   "execution_count": 3,
   "id": "932835ba",
   "metadata": {},
   "outputs": [
    {
     "name": "stdout",
     "output_type": "stream",
     "text": [
      "source_page 爬取完成\n"
     ]
    }
   ],
   "source": [
    "html = 'https://voice.baidu.com/act/newpneumonia/newpneumonia/?from=osari_aladin_banner'\n",
    "chrome_driver = r'D:\\anaconda\\envs\\pytry\\Lib\\site-packages\\selenium\\chromedriver.exe'\n",
    "browser = webdriver.Chrome(executable_path=chrome_driver)\n",
    "browser.set_window_size(1000, 800)  # 设置窗口大小\n",
    "try:\n",
    "    browser.get(html)\n",
    "    # eles = browser.find_elements_by_class_name('Common_1-1-321_3lDRV2')  # 找到该按钮\n",
    "    # ele = eles[0]\n",
    "    # browser.execute_script(\"arguments[0].scrollIntoView();\", ele)  # 滚动至该按钮可见位置\n",
    "\n",
    "    \"\"\"\n",
    "    browser.find_element_by_class_name('li-page.iconfont.icon-icon_pagedown')\n",
    "    括号里填的内容，如果有空格由 . 代替\n",
    "    \"\"\"\n",
    "\n",
    "    # browser.execute_script(\"arguments[0].scrollIntoView();\", ele)  # 滚动至该按钮可见位置，要不然无法模拟点击\n",
    "    buttons = browser.find_elements_by_class_name(\n",
    "        'Common_1-1-321_3lDRV2')  # 查找该按钮\n",
    "    # ActionChains(browser).move_to_element_with_offset(button, 500, 10).click().perform()\n",
    "    for button in buttons:\n",
    "        button.click()\n",
    "    # time.sleep(1)  # 停止两秒\n",
    "    with open('source_page.html', 'w', encoding='utf-8') as fp:\n",
    "        fp.write(browser.page_source)\n",
    "    print('source_page 爬取完成')\n",
    "finally:\n",
    "    browser.close()"
   ]
  },
  {
   "cell_type": "code",
   "execution_count": 4,
   "id": "bf543a6b",
   "metadata": {},
   "outputs": [
    {
     "data": {
      "text/plain": [
       "[['台湾', '24', '2323', '16915', '13742', '850'],\n",
       " ['陕西', '152', '682', '1391', '706', '3'],\n",
       " ['浙江', '2', '503', '2006', '1502', '1'],\n",
       " ['广西', '19', '251', '593', '340', '2'],\n",
       " ['香港', '9', '187', '12589', '12189', '213'],\n",
       " ['内蒙古', '0', '168', '1186', '1017', '1'],\n",
       " ['上海', '11', '154', '3048', '2887', '7'],\n",
       " ['云南', '0', '93', '1803', '1708', '2'],\n",
       " ['广东', '6', '88', '3427', '3331', '8'],\n",
       " ['天津', '2', '38', '564', '523', '3'],\n",
       " ['河南', '1', '31', '1641', '1588', '22'],\n",
       " ['福建', '0', '31', '1350', '1318', '1'],\n",
       " ['山东', '0', '29', '1038', '1002', '7'],\n",
       " ['四川', '3', '28', '1309', '1278', '3'],\n",
       " ['湖南', '2', '17', '1216', '1195', '4'],\n",
       " ['北京', '2', '15', '1208', '1184', '9'],\n",
       " ['甘肃', '0', '9', '356', '345', '2'],\n",
       " ['吉林', '0', '7', '589', '579', '3'],\n",
       " ['黑龙江', '0', '5', '2035', '2017', '13'],\n",
       " ['辽宁', '0', '5', '793', '786', '2'],\n",
       " ['江苏', '0', '4', '1624', '1620', '0'],\n",
       " ['重庆', '0', '2', '610', '602', '6'],\n",
       " ['安徽', '0', '1', '1009', '1002', '6'],\n",
       " ['湖北', '0', '0', '68316', '63804', '4512'],\n",
       " ['河北', '0', '0', '1458', '1451', '7'],\n",
       " ['新疆', '0', '0', '981', '978', '3'],\n",
       " ['江西', '0', '0', '959', '958', '1'],\n",
       " ['山西', '0', '0', '265', '265', '0'],\n",
       " ['海南', '0', '0', '190', '184', '6'],\n",
       " ['贵州', '0', '0', '159', '157', '2'],\n",
       " ['宁夏', '0', '0', '122', '122', '0'],\n",
       " ['澳门', '0', '0', '77', '77', '0'],\n",
       " ['青海', '0', '0', '30', '30', '0'],\n",
       " ['西藏', '0', '0', '1', '1', '0']]"
      ]
     },
     "execution_count": 4,
     "metadata": {},
     "output_type": "execute_result"
    }
   ],
   "source": [
    "texts = []\n",
    "with open('source_page.html', 'r', encoding='utf-8')as fp:\n",
    "    file = fp.read()\n",
    "    soup1 = BeautifulSoup(file, 'lxml')\n",
    "    soup = BeautifulSoup(soup1.prettify(), 'lxml')\n",
    "    temp = soup.find_all(attrs={'class': 'VirusTable_1-1-321_3m6Ybq'})\n",
    "    for th in temp:\n",
    "        texts.append(th.text.replace('\\n', ' ').split(' '))\n",
    "    for text in texts:\n",
    "        for i in range(text.count('')):\n",
    "            text.remove('')\n",
    "texts"
   ]
  },
  {
   "cell_type": "code",
   "execution_count": 5,
   "id": "562fe8fa",
   "metadata": {},
   "outputs": [
    {
     "data": {
      "text/plain": [
       "[['台湾', '2323'],\n",
       " ['陕西', '682'],\n",
       " ['浙江', '503'],\n",
       " ['广西', '251'],\n",
       " ['香港', '187'],\n",
       " ['内蒙古', '168'],\n",
       " ['上海', '154'],\n",
       " ['云南', '93'],\n",
       " ['广东', '88'],\n",
       " ['天津', '38'],\n",
       " ['河南', '31'],\n",
       " ['福建', '31'],\n",
       " ['山东', '29'],\n",
       " ['四川', '28'],\n",
       " ['湖南', '17'],\n",
       " ['北京', '15'],\n",
       " ['甘肃', '9'],\n",
       " ['吉林', '7'],\n",
       " ['黑龙江', '5'],\n",
       " ['辽宁', '5'],\n",
       " ['江苏', '4'],\n",
       " ['重庆', '2'],\n",
       " ['安徽', '1'],\n",
       " ['湖北', '0'],\n",
       " ['河北', '0'],\n",
       " ['新疆', '0'],\n",
       " ['江西', '0'],\n",
       " ['山西', '0'],\n",
       " ['海南', '0'],\n",
       " ['贵州', '0'],\n",
       " ['宁夏', '0'],\n",
       " ['澳门', '0'],\n",
       " ['青海', '0'],\n",
       " ['西藏', '0']]"
      ]
     },
     "execution_count": 5,
     "metadata": {},
     "output_type": "execute_result"
    }
   ],
   "source": [
    "arr = np.array(texts)\n",
    "province = list(arr[:, 0])\n",
    "now_exits = list(arr[:, 2])\n",
    "data = [list(z)for z in zip(province, now_exits)]\n",
    "data"
   ]
  },
  {
   "cell_type": "code",
   "execution_count": 6,
   "id": "dc01d49c",
   "metadata": {},
   "outputs": [
    {
     "name": "stdout",
     "output_type": "stream",
     "text": [
      "请打开Map1.html\n"
     ]
    }
   ],
   "source": [
    "c = (\n",
    "    Map(init_opts=opts.InitOpts(width=\"1000px\", height=\"600px\"))  # 初始化地图大小\n",
    "    .set_global_opts(\n",
    "        title_opts=opts.TitleOpts(title=\"2021年12月25日疫情图\"),  # 配置标题\n",
    "        visualmap_opts=opts.VisualMapOpts(\n",
    "            type_=\"scatter\"  # 散点类型\n",
    "        )\n",
    "    )\n",
    "    .add(\"now_exists\", data, maptype=\"china\")  # 将list传入，地图类型为中国地图\n",
    "    .render(\"Map1.html\")\n",
    ")\n",
    "print('请打开Map1.html')"
   ]
  },
  {
   "cell_type": "code",
   "execution_count": 9,
   "id": "287b63c2",
   "metadata": {},
   "outputs": [
    {
     "name": "stdout",
     "output_type": "stream",
     "text": [
      "请打开Map2.html\n"
     ]
    }
   ],
   "source": [
    "c = (\n",
    "    Map(init_opts=opts.InitOpts(width=\"1000px\",\n",
    "                                height=\"600px\", theme=ThemeType.ESSOS))  # 可切换主题\n",
    "        .set_global_opts(\n",
    "        title_opts=opts.TitleOpts(title=\"2021年12月25日疫情图\"),\n",
    "        visualmap_opts=opts.VisualMapOpts(\n",
    "            # min_=0,\n",
    "            # max_=600,\n",
    "            range_text=['人数', ''],  # 分区间\n",
    "            is_piecewise=True,  # 定义图例为分段型，默认为连续的图例\n",
    "            pos_top=\"middle\",  # 分段位置\n",
    "            pos_left=\"left\",\n",
    "            orient=\"vertical\",\n",
    "            # split_number=10,  # 分成10个区间\n",
    "            pieces=[\n",
    "                {\"min\": 1000},  # 不指定 max，表示 max 为无限大（Infinity）。\n",
    "                {\"min\": 500, \"max\": 999},\n",
    "                {\"min\": 100, \"max\": 499},\n",
    "                {\"min\": 50, \"max\": 99},\n",
    "                {\"min\": 10, \"max\": 49},\n",
    "                {\"min\": 5, \"max\": 9},\n",
    "                # {\"value\": 123, \"label\": '123（自定义特殊颜色）', \"color\": 'grey'},  # 表示 value 等于 123 的情况\n",
    "                {\"max\": 4, \"color\": 'white'}  # 不指定 min，表示 min 为无限大（-Infinity）。\n",
    "            ]\n",
    "\n",
    "        )\n",
    "    )\n",
    "        .add(\"现存感染人数\", data, maptype=\"china\")\n",
    "        .render(\"Map2.html\")\n",
    ")\n",
    "print('请打开Map2.html')"
   ]
  }
 ],
 "metadata": {
  "kernelspec": {
   "display_name": "Python 3 (ipykernel)",
   "language": "python",
   "name": "python3"
  },
  "language_info": {
   "codemirror_mode": {
    "name": "ipython",
    "version": 3
   },
   "file_extension": ".py",
   "mimetype": "text/x-python",
   "name": "python",
   "nbconvert_exporter": "python",
   "pygments_lexer": "ipython3",
   "version": "3.8.12"
  }
 },
 "nbformat": 4,
 "nbformat_minor": 5
}
