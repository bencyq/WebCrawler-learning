{
 "cells": [
  {
   "cell_type": "code",
   "execution_count": 2,
   "id": "11472b19",
   "metadata": {},
   "outputs": [],
   "source": [
    "import time\n",
    "from selenium import webdriver\n",
    "from selenium.webdriver.common.action_chains import ActionChains\n",
    "from bs4 import BeautifulSoup\n",
    "import PIL.Image as image\n",
    "import numpy as np"
   ]
  },
  {
   "cell_type": "code",
   "execution_count": null,
   "id": "932835ba",
   "metadata": {},
   "outputs": [],
   "source": [
    "html = 'https://voice.baidu.com/act/newpneumonia/newpneumonia/?from=osari_aladin_banner'\n",
    "chrome_driver = r'D:\\anaconda\\envs\\pytry\\Lib\\site-packages\\selenium\\chromedriver.exe'\n",
    "browser = webdriver.Chrome(executable_path=chrome_driver)\n",
    "browser.set_window_size(1000, 800)  # 设置窗口大小\n",
    "try:\n",
    "    browser.get(html)\n",
    "    eles = browser.find_elements_by_class_name('prev')  # 找到该按钮\n",
    "    ele = eles[0]\n",
    "    browser.execute_script(\"arguments[0].scrollIntoView();\", ele)  # 滚动至该按钮可见位置\n",
    "\n",
    "    with open('source_page\\\\source_page_1.html', 'w', encoding='utf-8') as fp:\n",
    "        fp.write(browser.page_source)\n",
    "    print('源文件 {} 爬取完成'.format(1))\n",
    "    \"\"\"\n",
    "    browser.find_element_by_class_name('li-page.iconfont.icon-icon_pagedown')\n",
    "    括号里填的内容，如果有空格由 . 代替\n",
    "    \"\"\"\n",
    "    for i in range(365):\n",
    "        # browser.execute_script(\"arguments[0].scrollIntoView();\", ele)  # 滚动至该按钮可见位置，要不然无法模拟点击\n",
    "        button = browser.find_element_by_class_name('prev')  # 查找该按钮\n",
    "        # ActionChains(browser).move_to_element_with_offset(button, 500, 10).click().perform()\n",
    "        button.click()\n",
    "        time.sleep(1)  # 停止两秒\n",
    "        with open('source_page\\\\source_page_{}.html'.format(i + 2), 'w', encoding='utf-8') as fp:\n",
    "            fp.write(browser.page_source)\n",
    "        print('源文件 {} 爬取完成'.format(i + 2))\n",
    "finally:\n",
    "    browser.close()"
   ]
  }
 ],
 "metadata": {
  "kernelspec": {
   "display_name": "Python 3 (ipykernel)",
   "language": "python",
   "name": "python3"
  },
  "language_info": {
   "codemirror_mode": {
    "name": "ipython",
    "version": 3
   },
   "file_extension": ".py",
   "mimetype": "text/x-python",
   "name": "python",
   "nbconvert_exporter": "python",
   "pygments_lexer": "ipython3",
   "version": "3.8.12"
  }
 },
 "nbformat": 4,
 "nbformat_minor": 5
}
