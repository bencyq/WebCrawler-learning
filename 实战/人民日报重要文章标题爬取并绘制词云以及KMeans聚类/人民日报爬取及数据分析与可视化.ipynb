{
 "cells": [
  {
   "cell_type": "markdown",
   "id": "33eff1aa",
   "metadata": {},
   "source": [
    "# 人民日报爬取及数据分析与可视化"
   ]
  },
  {
   "cell_type": "markdown",
   "id": "23e2a17f",
   "metadata": {},
   "source": [
    "## 导入包"
   ]
  },
  {
   "cell_type": "code",
   "execution_count": 1,
   "id": "6340bdd3",
   "metadata": {},
   "outputs": [],
   "source": [
    "import time\n",
    "from selenium import webdriver\n",
    "from selenium.webdriver.common.action_chains import ActionChains\n",
    "from bs4 import BeautifulSoup\n",
    "from wordcloud import WordCloud\n",
    "import PIL.Image as image\n",
    "import numpy as np\n",
    "import jieba"
   ]
  },
  {
   "cell_type": "markdown",
   "id": "7cc1231c",
   "metadata": {},
   "source": [
    "## 爬取模块"
   ]
  },
  {
   "cell_type": "code",
   "execution_count": 2,
   "id": "f4d49f18",
   "metadata": {},
   "outputs": [],
   "source": [
    "def crawler(html):\n",
    "    chrome_driver = r'D:\\anaconda\\envs\\pytry\\Lib\\site-packages\\selenium\\chromedriver.exe'\n",
    "    browser = webdriver.Chrome(executable_path=chrome_driver)\n",
    "    browser.set_window_size(1000, 800)  # 设置窗口大小\n",
    "    try:\n",
    "        browser.get(html)\n",
    "        eles = browser.find_elements_by_class_name('prev')  # 找到该按钮\n",
    "        ele = eles[0]\n",
    "        ele_x = ele.location.get('x')\n",
    "        ele_y = ele.location.get('y')\n",
    "        browser.execute_script(\"arguments[0].scrollIntoView();\", ele)  # 滚动至该按钮可见位置\n",
    "\n",
    "        with open('source_page\\\\source_page_1.html', 'w', encoding='utf-8') as fp:\n",
    "            fp.write(browser.page_source)\n",
    "        print('源文件 {} 爬取完成'.format(1))\n",
    "        \"\"\"\n",
    "        browser.find_element_by_class_name('li-page.iconfont.icon-icon_pagedown')\n",
    "        括号里填的内容，如果有空格由 . 代替\n",
    "        \"\"\"\n",
    "        for i in range(365):\n",
    "            # browser.execute_script(\"arguments[0].scrollIntoView();\", ele)  # 滚动至该按钮可见位置，要不然无法模拟点击\n",
    "            button = browser.find_element_by_class_name('prev')  # 查找该按钮\n",
    "            # ActionChains(browser).move_to_element_with_offset(button, 500, 10).click().perform()\n",
    "            button.click()\n",
    "            time.sleep(1)  # 停止两秒\n",
    "            with open('source_page\\\\source_page_{}.html'.format(i + 2), 'w', encoding='utf-8') as fp:\n",
    "                fp.write(browser.page_source)\n",
    "            print('源文件 {} 爬取完成'.format(i + 2))\n",
    "    finally:\n",
    "        browser.close()\n",
    "    return './source_page.html'"
   ]
  },
  {
   "cell_type": "markdown",
   "id": "f234e52a",
   "metadata": {},
   "source": [
    "## 网页解析模块\n",
    "通过 BeautifulSoup 来获取网页中的标题"
   ]
  },
  {
   "cell_type": "code",
   "execution_count": 8,
   "id": "929d4bb2",
   "metadata": {
    "scrolled": false
   },
   "outputs": [],
   "source": [
    "def analyse():\n",
    "    text = []\n",
    "    for i in range(1, 367):\n",
    "        print(f'\\r第{i}页解析中。。。', end='')\n",
    "        with open('source_page\\\\source_page_{}.html'.format(i), 'r', encoding='utf-8')as fp:\n",
    "            file = fp.read()\n",
    "        soup = BeautifulSoup(file, 'lxml')\n",
    "        temp = soup.find_all(attrs={'class': 'news-list'})\n",
    "        for th in temp:\n",
    "            for t in th.find_all('a'):\n",
    "                text.append(t.text)\n",
    "    with open('a.txt', 'w') as fp:\n",
    "        for t in text:\n",
    "            fp.write(t)\n",
    "            fp.write('\\n')"
   ]
  },
  {
   "cell_type": "markdown",
   "id": "2286efb6",
   "metadata": {},
   "source": [
    "## 数据分析\n",
    "对获取到的文本数据进行解析"
   ]
  },
  {
   "cell_type": "code",
   "execution_count": 4,
   "id": "690ca344",
   "metadata": {},
   "outputs": [],
   "source": [
    "def trans_CN(text):\n",
    "    word_list = jieba.cut(text)\n",
    "    # 分词后在单独个体之间加上空格\n",
    "    result = \" \".join(word_list)\n",
    "    result = result.replace('和', '').replace('的', '').replace('图片', '').replace('谈', '').replace('月', '').replace('以',\n",
    "                                                                                                                  '').replace(\n",
    "        '同', '').replace('向', '')\n",
    "\n",
    "    return result"
   ]
  },
  {
   "cell_type": "markdown",
   "id": "6f7a2f78",
   "metadata": {},
   "source": [
    "## 数据可视化\n",
    "用获取到的词频生成一个党旗形状的词云"
   ]
  },
  {
   "cell_type": "code",
   "execution_count": 5,
   "id": "69ebacde",
   "metadata": {},
   "outputs": [],
   "source": [
    "def draw():\n",
    "    with open(\"a.txt\") as fp:\n",
    "        text = fp.read()\n",
    "        text = trans_CN(text)\n",
    "        mask = np.array(image.open(\"pic.bmp\"))  # 图片的底一定要是白色的\n",
    "        wordcloud = WordCloud(\n",
    "            mask=mask,\n",
    "            font_path=\"C:\\\\Windows\\\\Fonts\\\\simhei.ttf\",\n",
    "            background_color=\"white\",\n",
    "            scale=32,\n",
    "            mode=\"RGBA\",\n",
    "            colormap='autumn'\n",
    "        ).generate(text)\n",
    "        image_produce = wordcloud.to_image()\n",
    "        image_produce.show()\n",
    "        image_produce.save('result.png')"
   ]
  },
  {
   "cell_type": "code",
   "execution_count": null,
   "id": "402ef4bd",
   "metadata": {},
   "outputs": [
    {
     "name": "stdout",
     "output_type": "stream",
     "text": [
      "第364页解析中。。。"
     ]
    },
    {
     "name": "stderr",
     "output_type": "stream",
     "text": [
      "Building prefix dict from the default dictionary ...\n",
      "Loading model from cache C:\\Users\\MACHEN~1\\AppData\\Local\\Temp\\jieba.cache\n"
     ]
    },
    {
     "name": "stdout",
     "output_type": "stream",
     "text": [
      "\r",
      "第365页解析中。。。\r",
      "第366页解析中。。。"
     ]
    },
    {
     "name": "stderr",
     "output_type": "stream",
     "text": [
      "Loading model cost 0.557 seconds.\n",
      "Prefix dict has been built successfully.\n"
     ]
    }
   ],
   "source": [
    "# crawler('http://paper.people.com.cn/rmrb/html/2021-12/21/nbs.D110000renmrb_01.htm')\n",
    "analyse()\n",
    "draw()"
   ]
  }
 ],
 "metadata": {
  "kernelspec": {
   "display_name": "Python 3 (ipykernel)",
   "language": "python",
   "name": "python3"
  },
  "language_info": {
   "codemirror_mode": {
    "name": "ipython",
    "version": 3
   },
   "file_extension": ".py",
   "mimetype": "text/x-python",
   "name": "python",
   "nbconvert_exporter": "python",
   "pygments_lexer": "ipython3",
   "version": "3.8.12"
  }
 },
 "nbformat": 4,
 "nbformat_minor": 5
}
